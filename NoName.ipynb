{
 "cells": [
  {
   "cell_type": "code",
   "execution_count": 1,
   "id": "f77174a7",
   "metadata": {},
   "outputs": [],
   "source": [
    "import requests as r\n",
    "import pandas as pd\n",
    "import pyRofex\n",
    "import datetime as dt"
   ]
  },
  {
   "cell_type": "code",
   "execution_count": 2,
   "id": "fcbdbb28",
   "metadata": {},
   "outputs": [],
   "source": [
    "#import quantstats as qs"
   ]
  },
  {
   "cell_type": "code",
   "execution_count": 3,
   "id": "e7a22998",
   "metadata": {},
   "outputs": [],
   "source": [
    "Datos = {   \"user\" : \"cursopythonmrs5295\",\n",
    "            \"password\" : \"uxuklH0+\",\n",
    "            \"account\" : \"REM5295\"}"
   ]
  },
  {
   "cell_type": "code",
   "execution_count": 4,
   "id": "e89011c0",
   "metadata": {},
   "outputs": [],
   "source": [
    "pyRofex.initialize(user = Datos[\"user\"],\n",
    "                   password = Datos[\"password\"],\n",
    "                   account = Datos[\"account\"],\n",
    "                   environment=pyRofex.Environment.REMARKET)"
   ]
  },
  {
   "cell_type": "code",
   "execution_count": null,
   "id": "f913dfe7",
   "metadata": {},
   "outputs": [],
   "source": [
    "#MDEBook = ['BI', 'OF']"
   ]
  },
  {
   "cell_type": "code",
   "execution_count": 5,
   "id": "6981117f",
   "metadata": {},
   "outputs": [],
   "source": [
    "MDE = ['LO', 'TV', 'NV', 'EV', 'HI']"
   ]
  },
  {
   "cell_type": "code",
   "execution_count": 6,
   "id": "c91c5f86",
   "metadata": {},
   "outputs": [],
   "source": [
    "CFI = ['DBXXFR', 'DBXXXX', 'EMXXXX', 'ESXXXX', 'FXXXSX', 'FXXXXX', 'MRIXXX', 'OCAFXS', 'OCASPS', 'OPAFXS', 'OPASPS', 'RPXXXX']"
   ]
  },
  {
   "cell_type": "code",
   "execution_count": null,
   "id": "abf5d29b",
   "metadata": {},
   "outputs": [],
   "source": [
    "#{\n",
    "#\"DBXXXX\":\"FixedIncomeGov\", \n",
    "#\"DBXXFR\":\"FixedIncomePriv\", \n",
    "#}\n",
    "\n",
    "#{\n",
    "#\"EMXXXX\":\"Cedear\", \n",
    "#\"ESXXXX\":\"EquityArg\", \n",
    "#}\n",
    "\n",
    "#{\n",
    "#\"FXXXSX\":\"Futuros\", \n",
    "#\"FXXXXX\":\"FuturosRolling\", \n",
    "#}\n",
    "\n",
    "#{\n",
    "#\"OCAFXS\":\"OptionCalls\", \n",
    "#\"OCASPS\":\"OptionCallsEquity\", \n",
    "#\"OPAFXS\":\"OptionPuts\", \n",
    "#\"OPASPS\":\"OptionPutsEquity\", \n",
    "#}\n",
    "\n",
    "#{\n",
    "#\"RPXXXX\":\"WTF\", \n",
    "#\"MRIXXX\":\"MatbaRofexIndex\", \n",
    "#}"
   ]
  },
  {
   "cell_type": "code",
   "execution_count": null,
   "id": "93dc775e",
   "metadata": {},
   "outputs": [],
   "source": [
    "#OrTy = [pyRofex.OrderType.LIMIT, \n",
    "#       pyRofex.OrderType.MARKET, \n",
    "#       pyRofex.OrderType.MARKET_TO_LIMIT]"
   ]
  },
  {
   "cell_type": "code",
   "execution_count": null,
   "id": "f5cd9f45",
   "metadata": {},
   "outputs": [],
   "source": [
    "#pyRofex.get_account_report()[\"accountData\"][\"detailedAccountReports\"][\"0\"][\"currencyBalance\"]"
   ]
  },
  {
   "cell_type": "code",
   "execution_count": null,
   "id": "af13d55d",
   "metadata": {},
   "outputs": [],
   "source": [
    "#pyRofex.get_account_report()[\"accountData\"][\"detailedAccountReports\"][\"0\"][\"availableToOperate\"]"
   ]
  },
  {
   "cell_type": "code",
   "execution_count": null,
   "id": "cc2104f4",
   "metadata": {},
   "outputs": [],
   "source": [
    "#pyRofex.get_account_position()"
   ]
  },
  {
   "cell_type": "code",
   "execution_count": null,
   "id": "b8e02372",
   "metadata": {},
   "outputs": [],
   "source": [
    "#pyRofex.get_all_orders_status()"
   ]
  },
  {
   "cell_type": "code",
   "execution_count": null,
   "id": "48aa187b",
   "metadata": {},
   "outputs": [],
   "source": [
    "#pyRofex.get_detailed_position()"
   ]
  },
  {
   "cell_type": "code",
   "execution_count": 7,
   "id": "12db4544",
   "metadata": {
    "scrolled": false
   },
   "outputs": [],
   "source": [
    "ListOfDictsWithAllInstruments = pyRofex.get_all_instruments()[\"instruments\"]\n",
    "\n",
    "LENGTH = range(len(ListOfDictsWithAllInstruments))\n",
    "\n",
    "AllInstruments = [ListOfDictsWithAllInstruments[i][\"instrumentId\"][\"symbol\"] for i in LENGTH]\n",
    "\n",
    "CFIDF = pd.DataFrame(index=AllInstruments)\n",
    "\n",
    "CFIDF[\"cficode\"] = \"\""
   ]
  },
  {
   "cell_type": "code",
   "execution_count": 8,
   "id": "565ada36",
   "metadata": {
    "scrolled": false
   },
   "outputs": [
    {
     "data": {
      "text/plain": [
       "datetime.datetime(2022, 11, 14, 1, 27, 7, 811671)"
      ]
     },
     "execution_count": 8,
     "metadata": {},
     "output_type": "execute_result"
    }
   ],
   "source": [
    "now = dt.datetime.now()\n",
    "now"
   ]
  },
  {
   "cell_type": "code",
   "execution_count": 9,
   "id": "6ebde22c",
   "metadata": {},
   "outputs": [],
   "source": [
    "for i in AllInstruments:\n",
    "    CFIDF[\"cficode\"][i] = pyRofex.get_instrument_details(ticker=i)[\"instrument\"][\"cficode\"]"
   ]
  },
  {
   "cell_type": "code",
   "execution_count": 10,
   "id": "fe166e57",
   "metadata": {
    "scrolled": true
   },
   "outputs": [
    {
     "data": {
      "text/plain": [
       "datetime.datetime(2022, 11, 14, 1, 29, 25, 427438)"
      ]
     },
     "execution_count": 10,
     "metadata": {},
     "output_type": "execute_result"
    }
   ],
   "source": [
    "now = dt.datetime.now()\n",
    "now"
   ]
  },
  {
   "cell_type": "code",
   "execution_count": 11,
   "id": "002e689f",
   "metadata": {},
   "outputs": [],
   "source": [
    "CFIDF.sort_index(inplace=True)\n",
    "\n",
    "CFIDF.drop(CFIDF[CFIDF.cficode != CFI[3]].index, inplace=True)\n",
    "\n",
    "CFIDF.drop(\"cficode\", axis=1, inplace=True)"
   ]
  },
  {
   "cell_type": "code",
   "execution_count": 12,
   "id": "d35a21d4",
   "metadata": {},
   "outputs": [],
   "source": [
    "for i in MDE:\n",
    "    CFIDF[i] = \"\""
   ]
  },
  {
   "cell_type": "code",
   "execution_count": 13,
   "id": "f90315a3",
   "metadata": {},
   "outputs": [
    {
     "data": {
      "text/plain": [
       "datetime.datetime(2022, 11, 14, 1, 29, 25, 470399)"
      ]
     },
     "execution_count": 13,
     "metadata": {},
     "output_type": "execute_result"
    }
   ],
   "source": [
    "now = dt.datetime.now()\n",
    "now"
   ]
  },
  {
   "cell_type": "code",
   "execution_count": 14,
   "id": "bd5cb144",
   "metadata": {},
   "outputs": [],
   "source": [
    "for i in list(CFIDF.index.values):\n",
    "    for j in MDE:\n",
    "        CFIDF[j][i] = pyRofex.get_market_data(ticker=i)[\"marketData\"][j]"
   ]
  },
  {
   "cell_type": "code",
   "execution_count": 15,
   "id": "1247fcf7",
   "metadata": {},
   "outputs": [
    {
     "data": {
      "text/plain": [
       "datetime.datetime(2022, 11, 14, 1, 30, 10, 819114)"
      ]
     },
     "execution_count": 15,
     "metadata": {},
     "output_type": "execute_result"
    }
   ],
   "source": [
    "now = dt.datetime.now()\n",
    "now"
   ]
  },
  {
   "cell_type": "code",
   "execution_count": 16,
   "id": "9c9d32e7",
   "metadata": {
    "scrolled": false
   },
   "outputs": [
    {
     "data": {
      "text/html": [
       "<div>\n",
       "<style scoped>\n",
       "    .dataframe tbody tr th:only-of-type {\n",
       "        vertical-align: middle;\n",
       "    }\n",
       "\n",
       "    .dataframe tbody tr th {\n",
       "        vertical-align: top;\n",
       "    }\n",
       "\n",
       "    .dataframe thead th {\n",
       "        text-align: right;\n",
       "    }\n",
       "</style>\n",
       "<table border=\"1\" class=\"dataframe\">\n",
       "  <thead>\n",
       "    <tr style=\"text-align: right;\">\n",
       "      <th></th>\n",
       "      <th>LO</th>\n",
       "      <th>TV</th>\n",
       "      <th>NV</th>\n",
       "      <th>EV</th>\n",
       "      <th>HI</th>\n",
       "    </tr>\n",
       "  </thead>\n",
       "  <tbody>\n",
       "    <tr>\n",
       "      <th>MERV - XMEV - AGRO - 48hs</th>\n",
       "      <td>None</td>\n",
       "      <td>0</td>\n",
       "      <td>0</td>\n",
       "      <td>0.0</td>\n",
       "      <td>None</td>\n",
       "    </tr>\n",
       "    <tr>\n",
       "      <th>MERV - XMEV - ALUA - 48hs</th>\n",
       "      <td>None</td>\n",
       "      <td>0</td>\n",
       "      <td>0</td>\n",
       "      <td>0.0</td>\n",
       "      <td>None</td>\n",
       "    </tr>\n",
       "    <tr>\n",
       "      <th>MERV - XMEV - ALUA - CI</th>\n",
       "      <td>None</td>\n",
       "      <td>0</td>\n",
       "      <td>0</td>\n",
       "      <td>0.0</td>\n",
       "      <td>None</td>\n",
       "    </tr>\n",
       "    <tr>\n",
       "      <th>MERV - XMEV - APBRA - 48hs</th>\n",
       "      <td>None</td>\n",
       "      <td>0</td>\n",
       "      <td>0</td>\n",
       "      <td>0.0</td>\n",
       "      <td>None</td>\n",
       "    </tr>\n",
       "    <tr>\n",
       "      <th>MERV - XMEV - APBRA - CI</th>\n",
       "      <td>None</td>\n",
       "      <td>0</td>\n",
       "      <td>0</td>\n",
       "      <td>0.0</td>\n",
       "      <td>None</td>\n",
       "    </tr>\n",
       "    <tr>\n",
       "      <th>MERV - XMEV - BBAR - 48hs</th>\n",
       "      <td>None</td>\n",
       "      <td>0</td>\n",
       "      <td>0</td>\n",
       "      <td>0.0</td>\n",
       "      <td>None</td>\n",
       "    </tr>\n",
       "    <tr>\n",
       "      <th>MERV - XMEV - BBAR - CI</th>\n",
       "      <td>None</td>\n",
       "      <td>0</td>\n",
       "      <td>0</td>\n",
       "      <td>0.0</td>\n",
       "      <td>None</td>\n",
       "    </tr>\n",
       "    <tr>\n",
       "      <th>MERV - XMEV - BMA - 24hs</th>\n",
       "      <td>None</td>\n",
       "      <td>0</td>\n",
       "      <td>0</td>\n",
       "      <td>0.0</td>\n",
       "      <td>None</td>\n",
       "    </tr>\n",
       "    <tr>\n",
       "      <th>MERV - XMEV - BMA - 48hs</th>\n",
       "      <td>None</td>\n",
       "      <td>0</td>\n",
       "      <td>0</td>\n",
       "      <td>0.0</td>\n",
       "      <td>None</td>\n",
       "    </tr>\n",
       "    <tr>\n",
       "      <th>MERV - XMEV - BMA - CI</th>\n",
       "      <td>None</td>\n",
       "      <td>0</td>\n",
       "      <td>0</td>\n",
       "      <td>0.0</td>\n",
       "      <td>None</td>\n",
       "    </tr>\n",
       "    <tr>\n",
       "      <th>MERV - XMEV - BYMA - 24hs</th>\n",
       "      <td>None</td>\n",
       "      <td>0</td>\n",
       "      <td>0</td>\n",
       "      <td>0.0</td>\n",
       "      <td>None</td>\n",
       "    </tr>\n",
       "    <tr>\n",
       "      <th>MERV - XMEV - BYMA - 48hs</th>\n",
       "      <td>None</td>\n",
       "      <td>0</td>\n",
       "      <td>0</td>\n",
       "      <td>0.0</td>\n",
       "      <td>None</td>\n",
       "    </tr>\n",
       "    <tr>\n",
       "      <th>MERV - XMEV - BYMA - CI</th>\n",
       "      <td>None</td>\n",
       "      <td>0</td>\n",
       "      <td>0</td>\n",
       "      <td>0.0</td>\n",
       "      <td>None</td>\n",
       "    </tr>\n",
       "    <tr>\n",
       "      <th>MERV - XMEV - CEPU - 24hs</th>\n",
       "      <td>None</td>\n",
       "      <td>0</td>\n",
       "      <td>0</td>\n",
       "      <td>0.0</td>\n",
       "      <td>None</td>\n",
       "    </tr>\n",
       "    <tr>\n",
       "      <th>MERV - XMEV - CEPU - 48hs</th>\n",
       "      <td>None</td>\n",
       "      <td>0</td>\n",
       "      <td>0</td>\n",
       "      <td>0.0</td>\n",
       "      <td>None</td>\n",
       "    </tr>\n",
       "    <tr>\n",
       "      <th>MERV - XMEV - CEPU - CI</th>\n",
       "      <td>None</td>\n",
       "      <td>0</td>\n",
       "      <td>0</td>\n",
       "      <td>0.0</td>\n",
       "      <td>None</td>\n",
       "    </tr>\n",
       "    <tr>\n",
       "      <th>MERV - XMEV - COME - 24hs</th>\n",
       "      <td>None</td>\n",
       "      <td>0</td>\n",
       "      <td>0</td>\n",
       "      <td>0.0</td>\n",
       "      <td>None</td>\n",
       "    </tr>\n",
       "    <tr>\n",
       "      <th>MERV - XMEV - COME - 48hs</th>\n",
       "      <td>None</td>\n",
       "      <td>0</td>\n",
       "      <td>0</td>\n",
       "      <td>0.0</td>\n",
       "      <td>None</td>\n",
       "    </tr>\n",
       "    <tr>\n",
       "      <th>MERV - XMEV - COME - CI</th>\n",
       "      <td>None</td>\n",
       "      <td>0</td>\n",
       "      <td>0</td>\n",
       "      <td>0.0</td>\n",
       "      <td>None</td>\n",
       "    </tr>\n",
       "    <tr>\n",
       "      <th>MERV - XMEV - CRES - 24hs</th>\n",
       "      <td>None</td>\n",
       "      <td>0</td>\n",
       "      <td>0</td>\n",
       "      <td>0.0</td>\n",
       "      <td>None</td>\n",
       "    </tr>\n",
       "    <tr>\n",
       "      <th>MERV - XMEV - CRES - 48hs</th>\n",
       "      <td>None</td>\n",
       "      <td>0</td>\n",
       "      <td>0</td>\n",
       "      <td>0.0</td>\n",
       "      <td>None</td>\n",
       "    </tr>\n",
       "    <tr>\n",
       "      <th>MERV - XMEV - CRES - CI</th>\n",
       "      <td>None</td>\n",
       "      <td>0</td>\n",
       "      <td>0</td>\n",
       "      <td>0.0</td>\n",
       "      <td>None</td>\n",
       "    </tr>\n",
       "    <tr>\n",
       "      <th>MERV - XMEV - CVH - 48hs</th>\n",
       "      <td>None</td>\n",
       "      <td>0</td>\n",
       "      <td>0</td>\n",
       "      <td>0.0</td>\n",
       "      <td>None</td>\n",
       "    </tr>\n",
       "    <tr>\n",
       "      <th>MERV - XMEV - CVH - CI</th>\n",
       "      <td>None</td>\n",
       "      <td>0</td>\n",
       "      <td>0</td>\n",
       "      <td>0.0</td>\n",
       "      <td>None</td>\n",
       "    </tr>\n",
       "    <tr>\n",
       "      <th>MERV - XMEV - EDN - CI</th>\n",
       "      <td>None</td>\n",
       "      <td>0</td>\n",
       "      <td>0</td>\n",
       "      <td>0.0</td>\n",
       "      <td>None</td>\n",
       "    </tr>\n",
       "    <tr>\n",
       "      <th>MERV - XMEV - GGAL - 24hs</th>\n",
       "      <td>None</td>\n",
       "      <td>0</td>\n",
       "      <td>0</td>\n",
       "      <td>0.0</td>\n",
       "      <td>None</td>\n",
       "    </tr>\n",
       "    <tr>\n",
       "      <th>MERV - XMEV - GGAL - 48hs</th>\n",
       "      <td>None</td>\n",
       "      <td>0</td>\n",
       "      <td>0</td>\n",
       "      <td>0.0</td>\n",
       "      <td>None</td>\n",
       "    </tr>\n",
       "    <tr>\n",
       "      <th>MERV - XMEV - GGAL - CI</th>\n",
       "      <td>None</td>\n",
       "      <td>0</td>\n",
       "      <td>0</td>\n",
       "      <td>0.0</td>\n",
       "      <td>None</td>\n",
       "    </tr>\n",
       "    <tr>\n",
       "      <th>MERV - XMEV - LOMA - 48hs</th>\n",
       "      <td>None</td>\n",
       "      <td>0</td>\n",
       "      <td>0</td>\n",
       "      <td>0.0</td>\n",
       "      <td>None</td>\n",
       "    </tr>\n",
       "    <tr>\n",
       "      <th>MERV - XMEV - LOMA - CI</th>\n",
       "      <td>None</td>\n",
       "      <td>0</td>\n",
       "      <td>0</td>\n",
       "      <td>0.0</td>\n",
       "      <td>None</td>\n",
       "    </tr>\n",
       "    <tr>\n",
       "      <th>MERV - XMEV - MIRG - 48hs</th>\n",
       "      <td>None</td>\n",
       "      <td>0</td>\n",
       "      <td>0.0</td>\n",
       "      <td>0.0</td>\n",
       "      <td>None</td>\n",
       "    </tr>\n",
       "    <tr>\n",
       "      <th>MERV - XMEV - MIRG - CI</th>\n",
       "      <td>None</td>\n",
       "      <td>0</td>\n",
       "      <td>0.0</td>\n",
       "      <td>0.0</td>\n",
       "      <td>None</td>\n",
       "    </tr>\n",
       "    <tr>\n",
       "      <th>MERV - XMEV - PAMP - 48hs</th>\n",
       "      <td>None</td>\n",
       "      <td>0</td>\n",
       "      <td>0</td>\n",
       "      <td>0.0</td>\n",
       "      <td>None</td>\n",
       "    </tr>\n",
       "    <tr>\n",
       "      <th>MERV - XMEV - PAMP - CI</th>\n",
       "      <td>None</td>\n",
       "      <td>0</td>\n",
       "      <td>0</td>\n",
       "      <td>0.0</td>\n",
       "      <td>None</td>\n",
       "    </tr>\n",
       "    <tr>\n",
       "      <th>MERV - XMEV - SUPV - 48hs</th>\n",
       "      <td>None</td>\n",
       "      <td>0</td>\n",
       "      <td>0</td>\n",
       "      <td>0.0</td>\n",
       "      <td>None</td>\n",
       "    </tr>\n",
       "    <tr>\n",
       "      <th>MERV - XMEV - SUPV - CI</th>\n",
       "      <td>None</td>\n",
       "      <td>0</td>\n",
       "      <td>0</td>\n",
       "      <td>0.0</td>\n",
       "      <td>None</td>\n",
       "    </tr>\n",
       "    <tr>\n",
       "      <th>MERV - XMEV - TECO2 - 48hs</th>\n",
       "      <td>None</td>\n",
       "      <td>0</td>\n",
       "      <td>0</td>\n",
       "      <td>0.0</td>\n",
       "      <td>None</td>\n",
       "    </tr>\n",
       "    <tr>\n",
       "      <th>MERV - XMEV - TECO2 - CI</th>\n",
       "      <td>None</td>\n",
       "      <td>0</td>\n",
       "      <td>0</td>\n",
       "      <td>0.0</td>\n",
       "      <td>None</td>\n",
       "    </tr>\n",
       "    <tr>\n",
       "      <th>MERV - XMEV - TGNO4 - 48hs</th>\n",
       "      <td>None</td>\n",
       "      <td>0</td>\n",
       "      <td>0</td>\n",
       "      <td>0.0</td>\n",
       "      <td>None</td>\n",
       "    </tr>\n",
       "    <tr>\n",
       "      <th>MERV - XMEV - TGNO4 - CI</th>\n",
       "      <td>None</td>\n",
       "      <td>0</td>\n",
       "      <td>0</td>\n",
       "      <td>0.0</td>\n",
       "      <td>None</td>\n",
       "    </tr>\n",
       "    <tr>\n",
       "      <th>MERV - XMEV - TGSU2 - 48hs</th>\n",
       "      <td>None</td>\n",
       "      <td>0</td>\n",
       "      <td>0</td>\n",
       "      <td>0.0</td>\n",
       "      <td>None</td>\n",
       "    </tr>\n",
       "    <tr>\n",
       "      <th>MERV - XMEV - TGSU2 - CI</th>\n",
       "      <td>None</td>\n",
       "      <td>0</td>\n",
       "      <td>0</td>\n",
       "      <td>0.0</td>\n",
       "      <td>None</td>\n",
       "    </tr>\n",
       "    <tr>\n",
       "      <th>MERV - XMEV - TRAN - 48hs</th>\n",
       "      <td>None</td>\n",
       "      <td>0</td>\n",
       "      <td>0</td>\n",
       "      <td>0.0</td>\n",
       "      <td>None</td>\n",
       "    </tr>\n",
       "    <tr>\n",
       "      <th>MERV - XMEV - TRAN - CI</th>\n",
       "      <td>None</td>\n",
       "      <td>0</td>\n",
       "      <td>0</td>\n",
       "      <td>0.0</td>\n",
       "      <td>None</td>\n",
       "    </tr>\n",
       "    <tr>\n",
       "      <th>MERV - XMEV - TXAR - 48hs</th>\n",
       "      <td>None</td>\n",
       "      <td>0</td>\n",
       "      <td>0</td>\n",
       "      <td>0.0</td>\n",
       "      <td>None</td>\n",
       "    </tr>\n",
       "    <tr>\n",
       "      <th>MERV - XMEV - TXAR - CI</th>\n",
       "      <td>None</td>\n",
       "      <td>0</td>\n",
       "      <td>0</td>\n",
       "      <td>0.0</td>\n",
       "      <td>None</td>\n",
       "    </tr>\n",
       "    <tr>\n",
       "      <th>MERV - XMEV - VALO - 48hs</th>\n",
       "      <td>None</td>\n",
       "      <td>0</td>\n",
       "      <td>0</td>\n",
       "      <td>0.0</td>\n",
       "      <td>None</td>\n",
       "    </tr>\n",
       "    <tr>\n",
       "      <th>MERV - XMEV - VALO - CI</th>\n",
       "      <td>None</td>\n",
       "      <td>0</td>\n",
       "      <td>0</td>\n",
       "      <td>0.0</td>\n",
       "      <td>None</td>\n",
       "    </tr>\n",
       "    <tr>\n",
       "      <th>MERV - XMEV - YPFD - 24hs</th>\n",
       "      <td>None</td>\n",
       "      <td>0</td>\n",
       "      <td>0</td>\n",
       "      <td>0.0</td>\n",
       "      <td>None</td>\n",
       "    </tr>\n",
       "    <tr>\n",
       "      <th>MERV - XMEV - YPFD - 48hs</th>\n",
       "      <td>None</td>\n",
       "      <td>0</td>\n",
       "      <td>0</td>\n",
       "      <td>0.0</td>\n",
       "      <td>None</td>\n",
       "    </tr>\n",
       "    <tr>\n",
       "      <th>MERV - XMEV - YPFD - CI</th>\n",
       "      <td>None</td>\n",
       "      <td>0</td>\n",
       "      <td>0</td>\n",
       "      <td>0.0</td>\n",
       "      <td>None</td>\n",
       "    </tr>\n",
       "  </tbody>\n",
       "</table>\n",
       "</div>"
      ],
      "text/plain": [
       "                              LO TV   NV   EV    HI\n",
       "MERV - XMEV - AGRO - 48hs   None  0    0  0.0  None\n",
       "MERV - XMEV - ALUA - 48hs   None  0    0  0.0  None\n",
       "MERV - XMEV - ALUA - CI     None  0    0  0.0  None\n",
       "MERV - XMEV - APBRA - 48hs  None  0    0  0.0  None\n",
       "MERV - XMEV - APBRA - CI    None  0    0  0.0  None\n",
       "MERV - XMEV - BBAR - 48hs   None  0    0  0.0  None\n",
       "MERV - XMEV - BBAR - CI     None  0    0  0.0  None\n",
       "MERV - XMEV - BMA - 24hs    None  0    0  0.0  None\n",
       "MERV - XMEV - BMA - 48hs    None  0    0  0.0  None\n",
       "MERV - XMEV - BMA - CI      None  0    0  0.0  None\n",
       "MERV - XMEV - BYMA - 24hs   None  0    0  0.0  None\n",
       "MERV - XMEV - BYMA - 48hs   None  0    0  0.0  None\n",
       "MERV - XMEV - BYMA - CI     None  0    0  0.0  None\n",
       "MERV - XMEV - CEPU - 24hs   None  0    0  0.0  None\n",
       "MERV - XMEV - CEPU - 48hs   None  0    0  0.0  None\n",
       "MERV - XMEV - CEPU - CI     None  0    0  0.0  None\n",
       "MERV - XMEV - COME - 24hs   None  0    0  0.0  None\n",
       "MERV - XMEV - COME - 48hs   None  0    0  0.0  None\n",
       "MERV - XMEV - COME - CI     None  0    0  0.0  None\n",
       "MERV - XMEV - CRES - 24hs   None  0    0  0.0  None\n",
       "MERV - XMEV - CRES - 48hs   None  0    0  0.0  None\n",
       "MERV - XMEV - CRES - CI     None  0    0  0.0  None\n",
       "MERV - XMEV - CVH - 48hs    None  0    0  0.0  None\n",
       "MERV - XMEV - CVH - CI      None  0    0  0.0  None\n",
       "MERV - XMEV - EDN - CI      None  0    0  0.0  None\n",
       "MERV - XMEV - GGAL - 24hs   None  0    0  0.0  None\n",
       "MERV - XMEV - GGAL - 48hs   None  0    0  0.0  None\n",
       "MERV - XMEV - GGAL - CI     None  0    0  0.0  None\n",
       "MERV - XMEV - LOMA - 48hs   None  0    0  0.0  None\n",
       "MERV - XMEV - LOMA - CI     None  0    0  0.0  None\n",
       "MERV - XMEV - MIRG - 48hs   None  0  0.0  0.0  None\n",
       "MERV - XMEV - MIRG - CI     None  0  0.0  0.0  None\n",
       "MERV - XMEV - PAMP - 48hs   None  0    0  0.0  None\n",
       "MERV - XMEV - PAMP - CI     None  0    0  0.0  None\n",
       "MERV - XMEV - SUPV - 48hs   None  0    0  0.0  None\n",
       "MERV - XMEV - SUPV - CI     None  0    0  0.0  None\n",
       "MERV - XMEV - TECO2 - 48hs  None  0    0  0.0  None\n",
       "MERV - XMEV - TECO2 - CI    None  0    0  0.0  None\n",
       "MERV - XMEV - TGNO4 - 48hs  None  0    0  0.0  None\n",
       "MERV - XMEV - TGNO4 - CI    None  0    0  0.0  None\n",
       "MERV - XMEV - TGSU2 - 48hs  None  0    0  0.0  None\n",
       "MERV - XMEV - TGSU2 - CI    None  0    0  0.0  None\n",
       "MERV - XMEV - TRAN - 48hs   None  0    0  0.0  None\n",
       "MERV - XMEV - TRAN - CI     None  0    0  0.0  None\n",
       "MERV - XMEV - TXAR - 48hs   None  0    0  0.0  None\n",
       "MERV - XMEV - TXAR - CI     None  0    0  0.0  None\n",
       "MERV - XMEV - VALO - 48hs   None  0    0  0.0  None\n",
       "MERV - XMEV - VALO - CI     None  0    0  0.0  None\n",
       "MERV - XMEV - YPFD - 24hs   None  0    0  0.0  None\n",
       "MERV - XMEV - YPFD - 48hs   None  0    0  0.0  None\n",
       "MERV - XMEV - YPFD - CI     None  0    0  0.0  None"
      ]
     },
     "execution_count": 16,
     "metadata": {},
     "output_type": "execute_result"
    }
   ],
   "source": [
    "CFIDF"
   ]
  },
  {
   "cell_type": "code",
   "execution_count": null,
   "id": "9f59b1fb",
   "metadata": {
    "scrolled": true
   },
   "outputs": [],
   "source": [
    "#BookPerTicker = pd.DataFrame(columns=MDEBook, index=ListOfStringsWithAllInstruments)\n",
    "\n",
    "#BookPerTicker"
   ]
  },
  {
   "cell_type": "code",
   "execution_count": null,
   "id": "c41d352e",
   "metadata": {},
   "outputs": [],
   "source": [
    "#for i in ListOfStringsWithAllInstruments:\n",
    "#    for j in MDEBook:\n",
    "#        BookPerTicker[j][i] = pyRofex.get_market_data(ticker=i)[\"marketData\"][j]\n",
    "\n",
    "#BookPerTicker"
   ]
  },
  {
   "cell_type": "code",
   "execution_count": null,
   "id": "3cabf732",
   "metadata": {},
   "outputs": [],
   "source": []
  },
  {
   "cell_type": "code",
   "execution_count": null,
   "id": "f948db65",
   "metadata": {
    "scrolled": true
   },
   "outputs": [],
   "source": [
    "#help(pyRofex.service)"
   ]
  },
  {
   "cell_type": "code",
   "execution_count": null,
   "id": "bb1f15a4",
   "metadata": {
    "scrolled": true
   },
   "outputs": [],
   "source": [
    "#help(pyRofex.MarketDataEntry)"
   ]
  },
  {
   "cell_type": "code",
   "execution_count": null,
   "id": "7f767c6b",
   "metadata": {
    "scrolled": true
   },
   "outputs": [],
   "source": [
    "#help(pyRofex.Environment)"
   ]
  },
  {
   "cell_type": "code",
   "execution_count": null,
   "id": "c60e3979",
   "metadata": {
    "scrolled": true
   },
   "outputs": [],
   "source": [
    "#help(pyRofex.Market)"
   ]
  },
  {
   "cell_type": "code",
   "execution_count": null,
   "id": "a5ec9e2f",
   "metadata": {
    "scrolled": true
   },
   "outputs": [],
   "source": [
    "#help(pyRofex.OrderType)"
   ]
  },
  {
   "cell_type": "code",
   "execution_count": null,
   "id": "ee0da14d",
   "metadata": {},
   "outputs": [],
   "source": []
  },
  {
   "cell_type": "code",
   "execution_count": null,
   "id": "6152b506",
   "metadata": {},
   "outputs": [],
   "source": [
    "# get_all_instruments - In[43] --> NO PREQUIERE PARAMETRO --> DEVUELVE list of dict con los 805 instrumentos[*MEJOR*]\n",
    "# get_market_data --> Le pasas un ticker y te devuelve un dict q contiene OHLC"
   ]
  },
  {
   "cell_type": "code",
   "execution_count": null,
   "id": "4d31f7c3",
   "metadata": {},
   "outputs": [],
   "source": [
    "# get_detailed_instruments - In[17] --> NO PREQUIERE PARAMETRO --> DEVUELVE list of dict con los 805 instrumentos [DETALLADO]\n",
    "# get_instrument_details - In[57] --> Le pasas un ticker y te devuelve un dict [DETALLADO]"
   ]
  },
  {
   "cell_type": "code",
   "execution_count": null,
   "id": "ef4cc72a",
   "metadata": {
    "scrolled": true
   },
   "outputs": [],
   "source": [
    "#help(qs.stats)"
   ]
  }
 ],
 "metadata": {
  "kernelspec": {
   "display_name": "Python 3 (ipykernel)",
   "language": "python",
   "name": "python3"
  },
  "language_info": {
   "codemirror_mode": {
    "name": "ipython",
    "version": 3
   },
   "file_extension": ".py",
   "mimetype": "text/x-python",
   "name": "python",
   "nbconvert_exporter": "python",
   "pygments_lexer": "ipython3",
   "version": "3.9.12"
  }
 },
 "nbformat": 4,
 "nbformat_minor": 5
}
